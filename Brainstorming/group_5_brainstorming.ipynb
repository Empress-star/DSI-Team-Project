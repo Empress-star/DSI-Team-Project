{
 "cells": [
  {
   "cell_type": "markdown",
   "id": "c71bc8fc",
   "metadata": {},
   "source": [
    "Team Project - Group 5\n",
    "\n",
    "Area of interest: Retail\n",
    "\n",
    "Dataset: Customer Personality Analysis\n",
    "Source: https://www.kaggle.com/datasets/imakash3011/customer-personality-analysis\n",
    "\n",
    "Business question: \n",
    "- Can we identify distinct customer clusters based on their purchasing behaviour and demographic characteristics?\n",
    "- How do the number of kids/teenagers in a household affect how the household shops?\n",
    "- How many promotions are need for each segment?\n",
    "- Does a customer's RFMT score correlate to their lifetime spending?\n",
    "- What are the characteristics of customers with differnt churn rates?\n",
    "- Improving donor loyalty\n",
    "- Can we use existing customer data to identify trends (opportunities or threats) and guide marketing strategies?"
   ]
  },
  {
   "cell_type": "markdown",
   "id": "aabac442",
   "metadata": {},
   "source": [
    "Tools/Methods: \n",
    "- Clustering\n",
    "- Elbow method\n",
    "- Sklearn\n",
    "- Python\n",
    "- Pandas\n",
    "- Numpy\n",
    "- matplotlib\n",
    "- Scaling\n"
   ]
  },
  {
   "cell_type": "markdown",
   "id": "9c0eba30",
   "metadata": {},
   "source": [
    "Areas of work:\n",
    "- Documentation\n",
    "    - READ ME\n",
    "    - interpretation\n",
    "    - research\n",
    "- Data cleaning\n",
    "    - extracting\n",
    "    - formating\n",
    "    - scaling\n",
    "    - inputation\n",
    "- Data processing\n",
    "    - clustering\n",
    "- Visualization\n",
    "    - exploratory visualizations\n",
    "    - results visualizations\n",
    "    - profile visualization\n",
    "- Code review"
   ]
  },
  {
   "cell_type": "code",
   "execution_count": null,
   "id": "3fba2f45",
   "metadata": {},
   "outputs": [],
   "source": []
  }
 ],
 "metadata": {
  "language_info": {
   "name": "python"
  }
 },
 "nbformat": 4,
 "nbformat_minor": 5
}
